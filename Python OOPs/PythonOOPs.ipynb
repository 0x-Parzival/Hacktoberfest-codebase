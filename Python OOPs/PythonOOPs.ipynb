{
 "cells": [
  {
   "cell_type": "code",
   "execution_count": 1,
   "metadata": {},
   "outputs": [],
   "source": [
    "#Object Oriented Programming in Python"
   ]
  },
  {
   "cell_type": "code",
   "execution_count": 157,
   "metadata": {},
   "outputs": [],
   "source": [
    "class Employee ():\n",
    "    rase=1.1  #class variable\n",
    "    num_people=5200\n",
    "    def __init__(self,first,last,pay):  #a constructor\n",
    "        self.first=first  #instance variable\n",
    "        self.last=last\n",
    "        self.pay=pay\n",
    "        self.email=first+'.'+last+'@gmail.com'\n",
    "        \n",
    "        Employee.num_people+=1\n",
    "    def fullname (self):  # a regular method\n",
    "        return \"{} {}\".format(self.first,self.last)\n",
    "    def appraise (self):\n",
    "        self.pay=int(self.pay*self.rase) # using self here with rase is better since coud change for 1 wot affct othrs\n",
    "        \n",
    "    @classmethod  #a decorator to dynamically alter a function \n",
    "    def change_rase(cls,amount):  #class method , cls is convention here same as self\n",
    "        cls.rase=amount\n",
    "    @classmethod  #alternative constructor\n",
    "    def from_str (cls,string,dlm):\n",
    "        first,last,pay=string.split(dlm)\n",
    "        return cls(first,last,pay)\n",
    "    \n",
    "    @staticmethod # use to create methods that don't use any data from class but have a logical connection\n",
    "    def is_workday (date):\n",
    "        if date.weekday()==6 or date.weekday()==5:\n",
    "            return False\n",
    "        return True\n",
    "    def __repr__(self):\n",
    "        return ('{} {} {}'.format(self.first,self.last,self.pay))\n",
    "    def __add__(self,other):\n",
    "        return self.pay+other.pay\n",
    "    def __len__(self):\n",
    "        return (len(self.fullname()))"
   ]
  },
  {
   "cell_type": "code",
   "execution_count": 158,
   "metadata": {},
   "outputs": [],
   "source": [
    "class developer(Employee):\n",
    "    rase=1.2 # override data of parent cls this attribute now is of dev class rather thn employee\n",
    "    def __init__(self,first,last,pat,pl):\n",
    "        #super().__init__(first,last,pat)  # thisis fine for simple cases\n",
    "        Employee.__init__(self,first,last,pat)  #- this is done usualy in case of multiple inheritnce \n",
    "        self.prog_lang=pl"
   ]
  },
  {
   "cell_type": "code",
   "execution_count": 159,
   "metadata": {},
   "outputs": [],
   "source": [
    "class Manager (Employee):\n",
    "    def __init__(self,first,last,pay,empls=None):\n",
    "        super().__init__(first,last,pay)\n",
    "        if empls is None:\n",
    "            self.empls=[]\n",
    "        else:\n",
    "            self.empls=empls\n",
    "    def add_emp(self,emp):\n",
    "        if type(emp)==list:\n",
    "            self.empls.extend(emp)\n",
    "        else:            \n",
    "            if emp not in self.empls:\n",
    "                self.empls.append(emp)\n",
    "    def rem_emp(self,emp):\n",
    "        if emp in self.empls:\n",
    "            self.empls.remove(emp)\n",
    "    def print_emp (self):\n",
    "        for e in self.empls:\n",
    "            print(\"--->  \"+e.fullname())\n",
    "            \n",
    "        "
   ]
  },
  {
   "cell_type": "code",
   "execution_count": 160,
   "metadata": {},
   "outputs": [],
   "source": [
    "dev1=developer('qwer','goyal',20,'python')# Method resolution order: check a hierachy to get what it wants\n",
    "dev2=developer('smith','lander',10,'python')\n",
    "dev3=developer('kritik','jain',23,'python')\n",
    "dev4=developer('nikita','singh',2,'python')\n",
    "dev5=developer('uzi','joshi',200,'python')\n",
    "dev6=developer('akash','kurmi',2.5,'python')"
   ]
  },
  {
   "cell_type": "code",
   "execution_count": 161,
   "metadata": {},
   "outputs": [],
   "source": [
    "man1=Manager('nikunj','goyal',15000,[dev1,dev2,dev3])"
   ]
  },
  {
   "cell_type": "code",
   "execution_count": 162,
   "metadata": {},
   "outputs": [
    {
     "name": "stdout",
     "output_type": "stream",
     "text": [
      "--->  qwer goyal\n",
      "--->  smith lal\n",
      "--->  kkk jain\n"
     ]
    }
   ],
   "source": [
    "man1.print_emp()"
   ]
  },
  {
   "cell_type": "code",
   "execution_count": 163,
   "metadata": {},
   "outputs": [],
   "source": [
    "man1.add_emp([dev5,dev6])"
   ]
  },
  {
   "cell_type": "code",
   "execution_count": 164,
   "metadata": {},
   "outputs": [
    {
     "data": {
      "text/plain": [
       "True"
      ]
     },
     "execution_count": 164,
     "metadata": {},
     "output_type": "execute_result"
    }
   ],
   "source": [
    "isinstance(dev1,developer)  # true for parent class too"
   ]
  },
  {
   "cell_type": "code",
   "execution_count": 165,
   "metadata": {},
   "outputs": [
    {
     "data": {
      "text/plain": [
       "False"
      ]
     },
     "execution_count": 165,
     "metadata": {},
     "output_type": "execute_result"
    }
   ],
   "source": [
    "issubclass(Manager,developer)"
   ]
  },
  {
   "cell_type": "code",
   "execution_count": 166,
   "metadata": {},
   "outputs": [
    {
     "name": "stdout",
     "output_type": "stream",
     "text": [
      "qwer goyal 20\n"
     ]
    }
   ],
   "source": [
    "print(dev1)"
   ]
  },
  {
   "cell_type": "code",
   "execution_count": 168,
   "metadata": {},
   "outputs": [
    {
     "data": {
      "text/plain": [
       "8"
      ]
     },
     "execution_count": 168,
     "metadata": {},
     "output_type": "execute_result"
    }
   ],
   "source": [
    "len(dev3)"
   ]
  },
  {
   "cell_type": "code",
   "execution_count": null,
   "metadata": {},
   "outputs": [],
   "source": []
  },
  {
   "cell_type": "code",
   "execution_count": null,
   "metadata": {},
   "outputs": [],
   "source": []
  }
 ],
 "metadata": {
  "kernelspec": {
   "display_name": "Python 3",
   "language": "python",
   "name": "python3"
  },
  "language_info": {
   "codemirror_mode": {
    "name": "ipython",
    "version": 3
   },
   "file_extension": ".py",
   "mimetype": "text/x-python",
   "name": "python",
   "nbconvert_exporter": "python",
   "pygments_lexer": "ipython3",
   "version": "3.6.5"
  }
 },
 "nbformat": 4,
 "nbformat_minor": 2
}
